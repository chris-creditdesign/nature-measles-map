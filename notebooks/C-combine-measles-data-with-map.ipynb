{
 "cells": [
  {
   "cell_type": "markdown",
   "metadata": {},
   "source": [
    "## Download shapefile from Natural Earth Data"
   ]
  },
  {
   "cell_type": "markdown",
   "metadata": {},
   "source": [
    "Use curl to download the 1:110m Cultural Vectors file from https://www.naturalearthdata.com/downloads/110m-cultural-vectors/"
   ]
  },
  {
   "cell_type": "code",
   "execution_count": 2,
   "metadata": {},
   "outputs": [],
   "source": [
    "# !curl -L 'https://www.naturalearthdata.com/http//www.naturalearthdata.com/download/110m/cultural/ne_110m_admin_0_countries.zip' -o './raw_data/map/ne_110m_admin_0_countries.zip'"
   ]
  },
  {
   "cell_type": "markdown",
   "metadata": {},
   "source": [
    "Next, unzip the archive to extract the shapefile (.shp), and some other junk:"
   ]
  },
  {
   "cell_type": "code",
   "execution_count": 3,
   "metadata": {},
   "outputs": [],
   "source": [
    "# !unzip -o './raw_data/map/ne_110m_admin_0_countries.zip' -d './raw_data/map'"
   ]
  },
  {
   "cell_type": "markdown",
   "metadata": {},
   "source": [
    "Edit the shapefile manually in QGIS.\n",
    "\n",
    "Combine China and Taiwan. \n",
    "\n",
    "Save at:\n",
    "`../raw_data/map/taiwan-merge/taiwan-merged.shp`"
   ]
  },
  {
   "cell_type": "markdown",
   "metadata": {},
   "source": [
    "Convert shapefile to geojson"
   ]
  },
  {
   "cell_type": "code",
   "execution_count": 2,
   "metadata": {},
   "outputs": [],
   "source": [
    "# npm install -g shapefile\n",
    "\n",
    "!shp2json '../raw_data/map/taiwan-merge/taiwan-merged.shp' -o '../raw_data/map/countries.json'"
   ]
  },
  {
   "cell_type": "markdown",
   "metadata": {},
   "source": [
    "Split up the geojson file so that each line ends with a `\\n` character"
   ]
  },
  {
   "cell_type": "code",
   "execution_count": 29,
   "metadata": {},
   "outputs": [],
   "source": [
    "# npm install -g ndjson-cli\n",
    "\n",
    "!ndjson-split 'd.features' \\\n",
    "    < '../raw_data/map/countries.json' \\\n",
    "    > '../raw_data/map/countries.ndjson'"
   ]
  },
  {
   "cell_type": "code",
   "execution_count": 30,
   "metadata": {},
   "outputs": [
    {
     "name": "stdout",
     "output_type": "stream",
     "text": [
      "     176 ../raw_data/map/countries.ndjson\r\n"
     ]
    }
   ],
   "source": [
    "!wc -l ../raw_data/map/countries.ndjson"
   ]
  },
  {
   "cell_type": "code",
   "execution_count": 32,
   "metadata": {},
   "outputs": [],
   "source": [
    "!rm ../raw_data/map/countries.json"
   ]
  },
  {
   "cell_type": "markdown",
   "metadata": {},
   "source": [
    "Add a Code key for each country, so that it can be used for the join and reduce the amount of properties for each country, to just the name `NAME_EN`, country code `ADM0_A3`, altcode `GU_A3` - this has been edited in qgis - and region `REGION_UN`."
   ]
  },
  {
   "cell_type": "code",
   "execution_count": 33,
   "metadata": {},
   "outputs": [],
   "source": [
    "!ndjson-map 'd.code = d.properties.ADM0_A3, d' < ../raw_data/map/countries.ndjson \\\n",
    "    | ndjson-map 'd.properties = { name:d.properties.NAME_EN, code:d.properties.ADM0_A3, altcode:d.properties.GU_A3, region:d.properties.REGION_UN }, d' \\\n",
    "    > ../raw_data/map/temp.ndjson\n"
   ]
  },
  {
   "cell_type": "code",
   "execution_count": 34,
   "metadata": {},
   "outputs": [],
   "source": [
    "!rm ../raw_data/map/countries.ndjson"
   ]
  },
  {
   "cell_type": "code",
   "execution_count": 35,
   "metadata": {},
   "outputs": [],
   "source": [
    "!mv ../raw_data/map/temp.ndjson ../raw_data/map/countries.ndjson"
   ]
  },
  {
   "cell_type": "markdown",
   "metadata": {},
   "source": [
    "## Join the measles vaccination and cases data with the map"
   ]
  },
  {
   "cell_type": "markdown",
   "metadata": {},
   "source": [
    "Turn the vaccinaiton and cases csv files into ndjson files\n",
    "\n",
    "-d, --dynamic-typing\n",
    "    Convert booleans and numeric to their type instead of strings."
   ]
  },
  {
   "cell_type": "code",
   "execution_count": 36,
   "metadata": {},
   "outputs": [],
   "source": [
    "!csv2json -d \\\n",
    "    < ../raw_data/cases/cases-by-who-region-2019.csv \\\n",
    "    > ../raw_data/map/case-by-who-region-2019.json"
   ]
  },
  {
   "cell_type": "markdown",
   "metadata": {},
   "source": [
    "The resulting file is a JSON array. To convert it to an NDJSON stream, use ndjson-cat (to remove the newlines), ndjson-split (to separate the array into multiple lines). You can run these individually, but here’s how to do it all in one go:"
   ]
  },
  {
   "cell_type": "code",
   "execution_count": 37,
   "metadata": {},
   "outputs": [],
   "source": [
    "!ndjson-cat ../raw_data/map/case-by-who-region-2019.json \\\n",
    "  | ndjson-split \\\n",
    "  > ../raw_data/map/case-by-who-region-2019.ndjson"
   ]
  },
  {
   "cell_type": "code",
   "execution_count": 38,
   "metadata": {},
   "outputs": [],
   "source": [
    "!rm ../raw_data/map/case-by-who-region-2019.json"
   ]
  },
  {
   "cell_type": "code",
   "execution_count": 39,
   "metadata": {},
   "outputs": [],
   "source": [
    "!csv2json -d \\\n",
    "    < ../raw_data/vaccination/vaccination-by-who-region-2019.csv \\\n",
    "    > ../raw_data/map/vaccination-by-who-region-2019.json"
   ]
  },
  {
   "cell_type": "code",
   "execution_count": 40,
   "metadata": {},
   "outputs": [],
   "source": [
    "!ndjson-cat ../raw_data/map/vaccination-by-who-region-2019.json \\\n",
    "  | ndjson-split \\\n",
    "  > ../raw_data/map/vaccination-by-who-region-2019.ndjson"
   ]
  },
  {
   "cell_type": "code",
   "execution_count": 41,
   "metadata": {},
   "outputs": [],
   "source": [
    "!rm ../raw_data/map/vaccination-by-who-region-2019.json"
   ]
  },
  {
   "cell_type": "markdown",
   "metadata": {},
   "source": [
    "Join the vaccination and cases data to the world map data. Make this a left outer join, so that each country is kept, even if they don't have any malaria data."
   ]
  },
  {
   "cell_type": "code",
   "execution_count": 42,
   "metadata": {},
   "outputs": [],
   "source": [
    "!ndjson-join --left 'd.code' \\\n",
    "    ../raw_data/map/countries.ndjson \\\n",
    "    ../raw_data/map/case-by-who-region-2019.ndjson \\\n",
    "    > ../raw_data/map/temp.ndjson"
   ]
  },
  {
   "cell_type": "code",
   "execution_count": 43,
   "metadata": {},
   "outputs": [],
   "source": [
    "!rm ../raw_data/map/countries.ndjson\n",
    "!mv ../raw_data/map/temp.ndjson ../raw_data/map/countries.ndjson"
   ]
  },
  {
   "cell_type": "markdown",
   "metadata": {},
   "source": [
    "This results in a file with two json objects per line. Add the second object as a 'cases' to the first objects 'properties' To get rid of the second object use ndjson-map and Object.assign"
   ]
  },
  {
   "cell_type": "code",
   "execution_count": 44,
   "metadata": {},
   "outputs": [],
   "source": [
    "!ndjson-map 'd[0].properties.cases = d[1], d' < ../raw_data/map/countries.ndjson \\\n",
    "    | ndjson-map 'Object.assign(d[0])' \\\n",
    "    > ../raw_data/map/temp.ndjson"
   ]
  },
  {
   "cell_type": "code",
   "execution_count": 45,
   "metadata": {},
   "outputs": [],
   "source": [
    "!rm ../raw_data/map/countries.ndjson\n",
    "!mv ../raw_data/map/temp.ndjson ../raw_data/map/countries.ndjson"
   ]
  },
  {
   "cell_type": "markdown",
   "metadata": {},
   "source": [
    "Do the same with the vaccination data"
   ]
  },
  {
   "cell_type": "code",
   "execution_count": 46,
   "metadata": {},
   "outputs": [],
   "source": [
    "!ndjson-join --left 'd.code' \\\n",
    "    ../raw_data/map/countries.ndjson \\\n",
    "    ../raw_data/map/vaccination-by-who-region-2019.ndjson \\\n",
    "    > ../raw_data/map/temp.ndjson"
   ]
  },
  {
   "cell_type": "code",
   "execution_count": 47,
   "metadata": {},
   "outputs": [],
   "source": [
    "!rm ../raw_data/map/countries.ndjson\n",
    "!mv ../raw_data/map/temp.ndjson ../raw_data/map/countries.ndjson"
   ]
  },
  {
   "cell_type": "code",
   "execution_count": 48,
   "metadata": {},
   "outputs": [],
   "source": [
    "!ndjson-map 'd[0].properties.vaccination = d[1], d' < ../raw_data/map/countries.ndjson \\\n",
    "    | ndjson-map 'Object.assign(d[0])' \\\n",
    "    > ../raw_data/map/temp.ndjson"
   ]
  },
  {
   "cell_type": "code",
   "execution_count": 49,
   "metadata": {},
   "outputs": [],
   "source": [
    "!rm ../raw_data/map/countries.ndjson\n",
    "!mv ../raw_data/map/temp.ndjson ../raw_data/map/countries.ndjson"
   ]
  },
  {
   "cell_type": "markdown",
   "metadata": {},
   "source": [
    "## Convert back from ndjson"
   ]
  },
  {
   "cell_type": "code",
   "execution_count": 50,
   "metadata": {},
   "outputs": [],
   "source": [
    "!ndjson-reduce < ../raw_data/map/countries.ndjson \\\n",
    "    | ndjson-map '{type: \"FeatureCollection\", features: d}' \\\n",
    "    > ../raw_data/map/countries.json"
   ]
  },
  {
   "cell_type": "code",
   "execution_count": 51,
   "metadata": {},
   "outputs": [],
   "source": [
    "!rm ../raw_data/map/countries.ndjson\n",
    "!rm ../raw_data/map/vaccination-by-who-region-2019.ndjson\n",
    "!rm ../raw_data/map/case-by-who-region-2019.ndjson"
   ]
  },
  {
   "cell_type": "markdown",
   "metadata": {},
   "source": [
    "## Convert from from geojson to topojson"
   ]
  },
  {
   "cell_type": "code",
   "execution_count": 52,
   "metadata": {},
   "outputs": [],
   "source": [
    "# npm install -g topojson\n",
    "\n",
    "!geo2topo ../raw_data/map/countries.json > ../raw_data/map/countries-topo.json"
   ]
  },
  {
   "cell_type": "markdown",
   "metadata": {},
   "source": [
    "Simplify the topojson to reduce file size"
   ]
  },
  {
   "cell_type": "code",
   "execution_count": 53,
   "metadata": {},
   "outputs": [],
   "source": [
    "!toposimplify -p 0.01 -f < ../raw_data/map/countries-topo.json > ../raw_data/map/countries-topo-reduced.json"
   ]
  },
  {
   "cell_type": "markdown",
   "metadata": {},
   "source": [
    "Move into the data file"
   ]
  },
  {
   "cell_type": "code",
   "execution_count": 54,
   "metadata": {},
   "outputs": [],
   "source": [
    "!mv ../raw_data/map/countries-topo-reduced.json ../src/data/countries-topo-reduced.json"
   ]
  }
 ],
 "metadata": {
  "kernelspec": {
   "display_name": "Python 3",
   "language": "python",
   "name": "python3"
  },
  "language_info": {
   "codemirror_mode": {
    "name": "ipython",
    "version": 3
   },
   "file_extension": ".py",
   "mimetype": "text/x-python",
   "name": "python",
   "nbconvert_exporter": "python",
   "pygments_lexer": "ipython3",
   "version": "3.7.1"
  }
 },
 "nbformat": 4,
 "nbformat_minor": 2
}
