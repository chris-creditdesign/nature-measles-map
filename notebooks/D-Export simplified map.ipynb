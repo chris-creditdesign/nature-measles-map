{
 "cells": [
  {
   "cell_type": "markdown",
   "metadata": {},
   "source": [
    "This map has been hand edited in QGIS to remove extraneous features and to greatly simplify the polygons."
   ]
  },
  {
   "cell_type": "markdown",
   "metadata": {},
   "source": [
    "Convert the shapefile to geojson"
   ]
  },
  {
   "cell_type": "code",
   "execution_count": 1,
   "metadata": {},
   "outputs": [],
   "source": [
    "# npm install -g shapefile\n",
    "\n",
    "!shp2json '../raw_data/map/simplified/simplified.shp' -o '../raw_data/map/simplified.json'"
   ]
  },
  {
   "cell_type": "markdown",
   "metadata": {},
   "source": [
    "Split up the geojson file so that each line ends with a `\\n` character"
   ]
  },
  {
   "cell_type": "code",
   "execution_count": 2,
   "metadata": {},
   "outputs": [],
   "source": [
    "# npm install -g ndjson-cli\n",
    "\n",
    "!ndjson-split 'd.features' \\\n",
    "    < '../raw_data/map/simplified.json' \\\n",
    "    > '../raw_data/map/simplified.ndjson'"
   ]
  },
  {
   "cell_type": "code",
   "execution_count": 3,
   "metadata": {},
   "outputs": [
    {
     "name": "stdout",
     "output_type": "stream",
     "text": [
      "     177 ../raw_data/map/simplified.ndjson\r\n"
     ]
    }
   ],
   "source": [
    "!wc -l ../raw_data/map/simplified.ndjson"
   ]
  },
  {
   "cell_type": "code",
   "execution_count": 4,
   "metadata": {},
   "outputs": [],
   "source": [
    "!rm ../raw_data/map/simplified.json"
   ]
  },
  {
   "cell_type": "markdown",
   "metadata": {},
   "source": [
    "Add a Code key for each country, so that it can be used for the join and reduce the amount of properties for each country, to just the name `NAME_EN`, country code `ADM0_A3`, - this has been edited in qgis - and region `REGION_UN`."
   ]
  },
  {
   "cell_type": "code",
   "execution_count": 5,
   "metadata": {},
   "outputs": [],
   "source": [
    "!ndjson-map 'd.code = d.properties.ADM0_A3, d' < ../raw_data/map/simplified.ndjson \\\n",
    "    | ndjson-map 'd.properties = { name:d.properties.NAME_EN, code:d.properties.ADM0_A3, altcode:d.properties.GU_A3, region:d.properties.REGION_UN }, d' \\\n",
    "    > ../raw_data/map/temp.ndjson\n",
    "\n"
   ]
  },
  {
   "cell_type": "code",
   "execution_count": 6,
   "metadata": {},
   "outputs": [],
   "source": [
    "!rm ../raw_data/map/simplified.ndjson"
   ]
  },
  {
   "cell_type": "code",
   "execution_count": 7,
   "metadata": {},
   "outputs": [],
   "source": [
    "!mv ../raw_data/map/temp.ndjson ../raw_data/map/simplified.ndjson"
   ]
  },
  {
   "cell_type": "markdown",
   "metadata": {},
   "source": [
    "Convert back from ndjson"
   ]
  },
  {
   "cell_type": "code",
   "execution_count": 8,
   "metadata": {},
   "outputs": [],
   "source": [
    "!ndjson-reduce < ../raw_data/map/simplified.ndjson \\\n",
    "    | ndjson-map '{type: \"FeatureCollection\", features: d}' \\\n",
    "    > ../raw_data/map/simplified.json"
   ]
  },
  {
   "cell_type": "code",
   "execution_count": 9,
   "metadata": {},
   "outputs": [],
   "source": [
    "!rm ../raw_data/map/simplified.ndjson"
   ]
  },
  {
   "cell_type": "markdown",
   "metadata": {},
   "source": [
    "Convert from from geojson to topojson"
   ]
  },
  {
   "cell_type": "code",
   "execution_count": 10,
   "metadata": {},
   "outputs": [],
   "source": [
    "# npm install -g topojson\n",
    "\n",
    "!geo2topo ../raw_data/map/simplified.json > ../raw_data/map/simplified-topo.json"
   ]
  },
  {
   "cell_type": "markdown",
   "metadata": {},
   "source": [
    "Move into the data file"
   ]
  },
  {
   "cell_type": "code",
   "execution_count": 11,
   "metadata": {},
   "outputs": [],
   "source": [
    "!mv ../raw_data/map/simplified-topo.json ../src/data/simplified-topo.json"
   ]
  }
 ],
 "metadata": {
  "kernelspec": {
   "display_name": "Python 3",
   "language": "python",
   "name": "python3"
  },
  "language_info": {
   "codemirror_mode": {
    "name": "ipython",
    "version": 3
   },
   "file_extension": ".py",
   "mimetype": "text/x-python",
   "name": "python",
   "nbconvert_exporter": "python",
   "pygments_lexer": "ipython3",
   "version": "3.7.1"
  }
 },
 "nbformat": 4,
 "nbformat_minor": 2
}
